{
 "cells": [
  {
   "cell_type": "raw",
   "metadata": {
    "collapsed": true,
    "pycharm": {
     "name": "#%% raw\n"
    }
   },
   "source": [
    "1、分析self.(Net,self).__init__()\n",
    "1.1 self参数\n",
    "首先考虑self参数"
   ]
  },
  {
   "cell_type": "code",
   "execution_count": 3,
   "outputs": [
    {
     "name": "stdout",
     "output_type": "stream",
     "text": [
      "<__main__.Person object at 0x0000022F94F90190>\n",
      "<__main__.Person object at 0x0000022F94F90190>\n",
      "<class '__main__.Person'>\n"
     ]
    }
   ],
   "source": [
    "class Person():\n",
    "    def eat(self):\n",
    "        print(self)\n",
    "Bob = Person()\n",
    "Bob.eat() # <__main__.Person object at 0x0000022F94F90190>\n",
    "print(Bob) # <__main__.Person object at 0x0000022F94F90190>\n",
    "print(Person) # <class '__main__.Person'>"
   ],
   "metadata": {
    "collapsed": false,
    "pycharm": {
     "name": "#%%\n"
    }
   }
  },
  {
   "cell_type": "raw",
   "source": [
    "可以看到，self指的是实例对象，而Person是该实例对应的类\n",
    "并且此时self可用this代替，但一般不这样写\n",
    "并且self不能省略\n",
    "1.2 __init__()方法\n",
    "在python中创建类后，通常会创建一个__init__方法，该方法会在创建类的实例的时候自动执行\n",
    "1.3 super(Net,self).__init__()\n",
    "是指首先找到Net的父类（比如是类NNet），然后把类Net的对象self转换为类NNet的对象，\n",
    "然后“被转换”的类NNet对象调用自己的init函数，简单理解就是子类把父类的__init__放到自己的__init__中\n",
    "这样子类就有了父类的__init__的那些东西。"
   ],
   "metadata": {
    "collapsed": false,
    "pycharm": {
     "name": "#%% raw\n"
    }
   }
  },
  {
   "cell_type": "code",
   "execution_count": 1,
   "outputs": [
    {
     "name": "stdout",
     "output_type": "stream",
     "text": [
      "zs 10 hit\n"
     ]
    }
   ],
   "source": [
    "class Person:\n",
    "    def __init__(self,name,age):\n",
    "        self.name = name\n",
    "        self.age = age\n",
    "    def printinfo(self):\n",
    "        print(self.name,self.age)\n",
    "class Stu(Person):\n",
    "    def __init__(self,name,age,school):\n",
    "        super(Stu,self).__init__(name,age)\n",
    "        self.school = school\n",
    "    def printinfo(self):\n",
    "        print(self.name,self.age,self.school)\n",
    "stu = Stu('zs',10,'hit')\n",
    "stu.printinfo()\n"
   ],
   "metadata": {
    "collapsed": false,
    "pycharm": {
     "name": "#%%\n"
    }
   }
  },
  {
   "cell_type": "raw",
   "source": [
    "注：python              java          代表含义\n",
    "    self               this        指当前被调用的对象\n",
    " __init__(self)      Stu构造函数   指构造函数，在实例化时，会自动被调用\n",
    "2、函数参数中的/和*\n",
    "2.1 /参数的用法\n",
    "指明某些函数形参必须使用位置参数而非关键字参数的形式\n",
    "被指明的形参在/前面"
   ],
   "metadata": {
    "collapsed": false,
    "pycharm": {
     "name": "#%% raw\n"
    }
   }
  },
  {
   "cell_type": "code",
   "execution_count": 8,
   "outputs": [
    {
     "name": "stdout",
     "output_type": "stream",
     "text": [
      "10\n"
     ]
    }
   ],
   "source": [
    "def f1(a,b,/,c,d):\n",
    "    return a+b+c+d\n",
    "print(f1(1,2,d=3,c=4))"
   ],
   "metadata": {
    "collapsed": false,
    "pycharm": {
     "name": "#%%\n"
    }
   }
  },
  {
   "cell_type": "raw",
   "source": [
    "2.2 *参数的用法\n",
    "*出现在函数参数中第一种含义可以表示为可变参数，一般写作*args；\n",
    "对于单独出现在参数中的*参数，则表示，*后面的参数必须为关键字参数的形式"
   ],
   "metadata": {
    "collapsed": false
   }
  },
  {
   "cell_type": "code",
   "execution_count": 9,
   "outputs": [
    {
     "name": "stdout",
     "output_type": "stream",
     "text": [
      "10\n",
      "1 (2, 3, 4) {'a': 5, 'b': 6}\n"
     ]
    }
   ],
   "source": [
    "def f2(a,b,*,c,d):\n",
    "    return a+b+c+d\n",
    "print(f2(1,2,d=3,c=4))# 可调换次序\n",
    "def f3(arg,*args,**kwargs):\n",
    "    print(arg,args,kwargs)\n",
    "f3(1,2,3,4,a=5,b=6)"
   ],
   "metadata": {
    "collapsed": false,
    "pycharm": {
     "name": "#%%\n"
    }
   }
  },
  {
   "cell_type": "raw",
   "source": [
    "不要滥用*args和**kwargs，其可能会破坏函数的健壮性，使签名变得模糊，且代码常常开始在不应该的地方构建小的参数解析器\n"
   ],
   "metadata": {
    "collapsed": false
   }
  }
 ],
 "metadata": {
  "kernelspec": {
   "name": "pycharm-2358d7e4",
   "language": "python",
   "display_name": "PyCharm (myproject)"
  },
  "language_info": {
   "codemirror_mode": {
    "name": "ipython",
    "version": 2
   },
   "file_extension": ".py",
   "mimetype": "text/x-python",
   "name": "python",
   "nbconvert_exporter": "python",
   "pygments_lexer": "ipython2",
   "version": "2.7.6"
  }
 },
 "nbformat": 4,
 "nbformat_minor": 0
}